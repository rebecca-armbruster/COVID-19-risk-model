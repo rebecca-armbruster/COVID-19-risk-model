{
 "cells": [
  {
   "cell_type": "code",
   "execution_count": null,
   "id": "d64814d0",
   "metadata": {},
   "outputs": [],
   "source": [
    "import os, json\n",
    "from os import listdir, makedirs\n",
    "from os.path import join, isfile, isdir\n",
    "import numpy as np\n",
    "import pandas as pd\n",
    "\n",
    "pd.set_option('display.max_columns', None)\n",
    "pd.set_option('display.max_rows', None)"
   ]
  },
  {
   "cell_type": "code",
   "execution_count": null,
   "id": "c41a5be5",
   "metadata": {},
   "outputs": [],
   "source": [
    "from data_manipulations import *"
   ]
  },
  {
   "cell_type": "markdown",
   "id": "f5971022",
   "metadata": {},
   "source": [
    "### Global variables"
   ]
  },
  {
   "cell_type": "code",
   "execution_count": null,
   "id": "614c9de6",
   "metadata": {},
   "outputs": [],
   "source": [
    "location_list = ['']"
   ]
  },
  {
   "cell_type": "code",
   "execution_count": null,
   "id": "87f280ae",
   "metadata": {},
   "outputs": [],
   "source": [
    "cohort_template = 'Arztbrief/KIS Angaben'\n",
    "cohort_group = 'Arztbrief/KIS Angaben'\n",
    "cohort_question = 'Kohorte: Primäre Klasse'\n",
    "cohort_column = f'{cohort_template}//{cohort_group}::{cohort_question}'"
   ]
  },
  {
   "cell_type": "code",
   "execution_count": null,
   "id": "11a1ebf5",
   "metadata": {},
   "outputs": [],
   "source": [
    "aggregated_folder = '03_aggregated'\n",
    "merged_folder = '04_merged'\n",
    "\n",
    "if not isdir(join('data', aggregated_folder)):\n",
    "    makedirs(join('data', aggregated_folder))\n",
    "    \n",
    "if not isdir(join('data', merged_folder)):\n",
    "    makedirs(join('data', merged_folder))"
   ]
  },
  {
   "cell_type": "markdown",
   "id": "20f66502",
   "metadata": {},
   "source": [
    "### Target variables\n",
    "* **Target 0:** Höchster Behandlungsstatus (Unique values: unbekannt, ambulant, Notaufnahme, stationär, IMC, ICU)\n",
    "* **Target 1:** Letzter dokumentierter Patientenoutcome (Unique values: zum Erfassungsdatum noch bestehende Hospitalisation, Entlassung ohne Folgehospitalisation, Entlassung mit Folgehospitalisation, Tod)\n",
    "* **Target 2:** Höchster Beatmungsbedarf (Unique values: Nasenbrille, nicht-invasive Beatmung, invasive Beatmung, invasive Beatmung mit ECMO)\n",
    "* **Target 3:** Binärer Schweregrad (Invasive Beatmung und ICU)"
   ]
  },
  {
   "cell_type": "code",
   "execution_count": null,
   "id": "c9130409",
   "metadata": {},
   "outputs": [],
   "source": [
    "target_col_0 = 'Arztbrief/KIS Angaben//Outcome Parameter::Innerhalb des erfassten Aufenthaltes war der höchste Behandlungsstatus'\n",
    "target_col_1 = 'Arztbrief/KIS Angaben//Outcome Parameter::Die letzte dokumentierte Patientenoutcomeerfassung beschreibt'\n",
    "target_col_2 = 'Behandlungsplan//Behandlungsprotokoll::Sauerstofftherapie: Art'"
   ]
  },
  {
   "cell_type": "code",
   "execution_count": null,
   "id": "abfe490a",
   "metadata": {},
   "outputs": [],
   "source": [
    "encoding_0 = {'nicht beantwortet': 0,\n",
    "              'unbekannt': 0,\n",
    "              'ambulant': 1,\n",
    "              'notaufnahme': 2,\n",
    "              'stationär': 3,\n",
    "              'imc': 4,\n",
    "              'icu': 5\n",
    "             }\n",
    "\n",
    "encoding_1 = {'nicht beantwortet': 0,\n",
    "              'unbekannt': 0,\n",
    "              'zum erfassungsdatum noch bestehende hospitalisation': 1,\n",
    "              'entlassung ohne folgehospitalisation': 2,\n",
    "              'entlassung mit folgehospitalisation': 3,\n",
    "              'tod': 4\n",
    "             }\n",
    "\n",
    "encoding_2 = {'nicht beantwortet': 0,\n",
    "              'unbekannt': 0,\n",
    "              'nasenbrille': 1,\n",
    "              'nicht-invasive beatmung': 2,\n",
    "              'invasive beatmung': 3,\n",
    "              'invasive beatmung mit ecmo': 4\n",
    "             }\n",
    "\n",
    "encoding = [encoding_0, encoding_1, encoding_2]"
   ]
  },
  {
   "cell_type": "markdown",
   "id": "e546f15d",
   "metadata": {},
   "source": [
    "### Loop through location list"
   ]
  },
  {
   "cell_type": "code",
   "execution_count": null,
   "id": "d7cd1a2e",
   "metadata": {
    "scrolled": true
   },
   "outputs": [],
   "source": [
    "%%time\n",
    "for location in location_list:\n",
    "    file_path = join('data', '02_date_adapted', f'{location}_all_raw_data_risk-model.xlsx')\n",
    "    \n",
    "    raw_data = pd.read_excel(file_path)\n",
    "    data = raw_data.copy()\n",
    "    \n",
    "    columns = list(data.columns)\n",
    "\n",
    "    arztbrief_columns = [col for col in columns if check_template(col, 'Arztbrief/KIS Angaben')]\n",
    "    behandlungsplan_columns = [col for col in columns if check_template(col, 'Behandlungsplan')]\n",
    "    ct_columns = [col for col in columns if check_template(col, 'CT')]\n",
    "    kai_columns = [col for col in columns if check_template(col, 'Klinisch-anamnestische Information')]\n",
    "    laborparameter_columns = [col for col in columns if check_template(col, 'Laborparameter')]\n",
    "    roentgen_columns = [col for col in columns if check_template(col, 'Röntgen')]\n",
    "    \n",
    "    print(f\"Number of unique patients: {data['PatientID'].nunique()}\")\n",
    "    print(f'Number of rows: {len(data)}\\n')\n",
    "    print(f\"Value counts of templates: {data.groupby('Template')['PatientID'].count()}\\n\")\n",
    "    \n",
    "    # Filter for COVID patients only\n",
    "    cohorts = ['Covid-CTs (Fälle am Standort, PCR\\\\AK pos.)']\n",
    "    cohort_ids = list(data[data[cohort_column].isin(cohorts)]['PatientID'].unique())\n",
    "    data = data[data['PatientID'].isin(cohort_ids)]\n",
    "\n",
    "    print(f\"Unique COVID patients: {data['PatientID'].nunique()}\")\n",
    "    \n",
    "    # Delete \"Follow-up\" rows\n",
    "    cohort_remove_value = 'Follow-Up COVID-CTs am Standort'\n",
    "    data = data[data[cohort_column] != cohort_remove_value]\n",
    "    \n",
    "    # Delete \"Röntgen\" and \"Befundzeitpunkt\" rows and corresponding columns\n",
    "    template_remove_values = ['Röntgen', 'Befundzeitpunkt']\n",
    "    data = data[~data['Template'].isin(template_remove_values)]\n",
    "    \n",
    "    data.drop(roentgen_columns, inplace=True, axis=1)\n",
    "\n",
    "    # Select only patients that have baseline information\n",
    "    print(data['Klinisch-anamnestische Information//Komorbiditäten aus Arztbrief::Untersuchungstyp'].unique())\n",
    "    patients = data['PatientID'].unique().tolist()\n",
    "    baseline_patients = [patient for patient in patients if has_baseline(data, patient)]\n",
    "    baseline = len(baseline_patients) > 0\n",
    "    if baseline:\n",
    "        data = data[data['PatientID'].isin(baseline_patients)]\n",
    "    print(f'Patients with baseline information: {len(baseline_patients)}')\n",
    "    non_baseline_patients = list_diff(patients, baseline_patients)\n",
    "    \n",
    "    # Select relevant data points for \"Behandlungsplan\" and \"Laborparameter\"\n",
    "    data = data[data['Behandlungsplan//Behandlungsplan::Behandlungsplan: Erhebungsdatum'].isin([np.nan, -1, 0, 1, 2])]\n",
    "    data = data[data['Laborparameter//Laborparameter::Labordaten: Erhebungsdatum'].isin([np.nan, -1, 0, 1, 2])]\n",
    "    data.reset_index(inplace=True, drop=True)\n",
    "    \n",
    "    # Merge data into one row per patient\n",
    "    merged_data = pd.DataFrame()\n",
    "    \n",
    "    if baseline:\n",
    "        print('Baseline information available')\n",
    "        for i, patient in enumerate(baseline_patients):\n",
    "            tmp_entries = get_entries(data, patient, arztbrief_columns, behandlungsplan_columns, ct_columns, kai_columns, laborparameter_columns, baseline=True)\n",
    "            merged_data = pd.concat([merged_data, pd.DataFrame(tmp_entries, index=[i])])\n",
    "    else:\n",
    "        print('No baseline information available')\n",
    "        for i, patient in enumerate(patients):\n",
    "            tmp_entries = get_entries(data, patient, arztbrief_columns, behandlungsplan_columns, ct_columns, kai_columns, laborparameter_columns, baseline=False)\n",
    "            merged_data = pd.concat([merged_data, pd.DataFrame(tmp_entries, index=[i])])\n",
    "    \n",
    "    patient_ids = merged_data.pop('PatientID')\n",
    "    merged_data.insert(0, 'PatientID', patient_ids)\n",
    "    \n",
    "    merged_data.insert(1, 'Location', [location]*len(merged_data))\n",
    "    \n",
    "    # Target variables\n",
    "    merged_data[target_col_0] = merged_data.apply(lambda row: encode(row[target_col_0], encoding[0]), axis=1)\n",
    "    merged_data[target_col_1] = merged_data.apply(lambda row: encode(row[target_col_1], encoding[1]), axis=1)\n",
    "    merged_data[target_col_2] = merged_data.apply(lambda row: encode(row[target_col_2], encoding[2]), axis=1)\n",
    "    \n",
    "    data[target_col_0] = data.apply(lambda row: encode(row[target_col_0], encoding[0]), axis=1)\n",
    "    data[target_col_1] = data.apply(lambda row: encode(row[target_col_1], encoding[1]), axis=1)\n",
    "    data[target_col_2] = data.apply(lambda row: encode(row[target_col_2], encoding[2]), axis=1)\n",
    "    \n",
    "    merged_data['Target_0'] = merged_data.apply(lambda row: get_highest_value(data, row['PatientID'], target_col_0), axis=1)\n",
    "    merged_data['Target_1'] = merged_data.apply(lambda row: get_highest_value(data, row['PatientID'], target_col_1), axis=1)\n",
    "    merged_data['Target_2'] = merged_data.apply(lambda row: get_highest_value(data, row['PatientID'], target_col_2), axis=1)\n",
    "    \n",
    "    merged_data['Target_3'] = merged_data.apply(lambda row: is_severe(row), axis=1)\n",
    "    \n",
    "    merged_data.to_excel(join('data', aggregated_folder, f'{location}_all_raw_data_risk-model.xlsx'), index=False)\n",
    "    \n",
    "    print(f'{location} saved\\n############################################')"
   ]
  },
  {
   "cell_type": "markdown",
   "id": "232712f3",
   "metadata": {},
   "source": [
    "### Merge location data into one dataframe"
   ]
  },
  {
   "cell_type": "code",
   "execution_count": null,
   "id": "01e09da6",
   "metadata": {},
   "outputs": [],
   "source": [
    "data_location = join('data', aggregated_folder)\n",
    "location_files = [f for f in listdir(data_location) if isfile(join(data_location, f))]"
   ]
  },
  {
   "cell_type": "code",
   "execution_count": null,
   "id": "9df912a2",
   "metadata": {},
   "outputs": [],
   "source": [
    "for i, file in enumerate(location_files):\n",
    "    if i == 0:\n",
    "        locations_merged = pd.read_excel(join(data_location, file))\n",
    "    else:\n",
    "        locations_merged = pd.concat([locations_merged, pd.read_excel(join(data_location, file))])"
   ]
  },
  {
   "cell_type": "code",
   "execution_count": null,
   "id": "56b14cb4",
   "metadata": {},
   "outputs": [],
   "source": [
    "# Remove NaN values in target column 2\n",
    "locations_merged = locations_merged[~locations_merged['Target_2'].isna()]"
   ]
  },
  {
   "cell_type": "code",
   "execution_count": null,
   "id": "65fcb5b6",
   "metadata": {},
   "outputs": [],
   "source": [
    "t = 0\n",
    "print(f\"NaN values: {locations_merged[f'Target_{t}'].isna().sum()}\")\n",
    "locations_merged[f'Target_{t}'].value_counts()"
   ]
  },
  {
   "cell_type": "code",
   "execution_count": null,
   "id": "af4aa819",
   "metadata": {},
   "outputs": [],
   "source": [
    "t = 2\n",
    "print(f\"NaN values: {locations_merged[f'Target_{t}'].isna().sum()}\")\n",
    "locations_merged[f'Target_{t}'].value_counts()"
   ]
  },
  {
   "cell_type": "code",
   "execution_count": null,
   "id": "62f8e518",
   "metadata": {},
   "outputs": [],
   "source": [
    "t = 3\n",
    "print(f\"NaN values: {locations_merged[f'Target_{t}'].isna().sum()}\")\n",
    "locations_merged[f'Target_{t}'].value_counts()"
   ]
  },
  {
   "cell_type": "code",
   "execution_count": null,
   "id": "9b683cbb",
   "metadata": {},
   "outputs": [],
   "source": [
    "locations_merged.to_excel(join('data', merged_folder, f'all_data_combined.xlsx'), index=False)"
   ]
  },
  {
   "cell_type": "code",
   "execution_count": null,
   "id": "d75e11ca",
   "metadata": {},
   "outputs": [],
   "source": []
  }
 ],
 "metadata": {
  "kernelspec": {
   "display_name": "Python 3 (ipykernel)",
   "language": "python",
   "name": "python3"
  },
  "language_info": {
   "codemirror_mode": {
    "name": "ipython",
    "version": 3
   },
   "file_extension": ".py",
   "mimetype": "text/x-python",
   "name": "python",
   "nbconvert_exporter": "python",
   "pygments_lexer": "ipython3",
   "version": "3.9.12"
  }
 },
 "nbformat": 4,
 "nbformat_minor": 5
}
