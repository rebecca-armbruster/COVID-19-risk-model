{
 "cells": [
  {
   "cell_type": "code",
   "execution_count": null,
   "id": "582ee545",
   "metadata": {},
   "outputs": [],
   "source": [
    "import os, collections, json\n",
    "from os import listdir, makedirs\n",
    "from os.path import join, isdir\n",
    "import pandas as pd\n",
    "import numpy as np\n",
    "import seaborn as sns\n",
    "\n",
    "pd.set_option('display.max_columns', None)\n",
    "pd.set_option('display.max_rows', None)"
   ]
  },
  {
   "cell_type": "code",
   "execution_count": null,
   "id": "84439418",
   "metadata": {},
   "outputs": [],
   "source": [
    "from data_manipulations import *"
   ]
  },
  {
   "cell_type": "markdown",
   "id": "e2c42295",
   "metadata": {},
   "source": [
    "### Load data"
   ]
  },
  {
   "cell_type": "code",
   "execution_count": null,
   "id": "01cbdddc",
   "metadata": {},
   "outputs": [],
   "source": [
    "data_path = join('data', '04_merged', 'all_data_combined.xlsx')\n",
    "raw_data = pd.read_excel(data_path)\n",
    "data = raw_data.copy()"
   ]
  },
  {
   "cell_type": "markdown",
   "id": "0e94cf07",
   "metadata": {},
   "source": [
    "### Global variables"
   ]
  },
  {
   "cell_type": "code",
   "execution_count": null,
   "id": "14d56bd8",
   "metadata": {},
   "outputs": [],
   "source": [
    "save = True\n",
    "\n",
    "preprocessed_folder = join('data', '05_preprocessed')\n",
    "\n",
    "if not isdir(preprocessed_folder):\n",
    "    makedirs(preprocessed_folder)"
   ]
  },
  {
   "cell_type": "code",
   "execution_count": null,
   "id": "87cc2dcc",
   "metadata": {},
   "outputs": [],
   "source": [
    "kis = 'Arztbrief/KIS Angaben'\n",
    "beh_plan = 'Behandlungsplan'\n",
    "ct = 'CT'\n",
    "kai = 'Klinisch-anamnestische Information'\n",
    "labor = 'Laborparameter'"
   ]
  },
  {
   "cell_type": "code",
   "execution_count": null,
   "id": "6c417821",
   "metadata": {},
   "outputs": [],
   "source": [
    "columns = list(data.columns)\n",
    "\n",
    "arztbrief_columns = [col for col in columns if check_template(col, kis)]\n",
    "behandlungsplan_columns = [col for col in columns if check_template(col, beh_plan)]\n",
    "ct_columns = [col for col in columns if check_template(col, ct)]\n",
    "kai_columns = [col for col in columns if check_template(col, kai)]\n",
    "laborparameter_columns = [col for col in columns if check_template(col, labor)]"
   ]
  },
  {
   "cell_type": "markdown",
   "id": "456ba06a",
   "metadata": {},
   "source": [
    "### Replace NaNs"
   ]
  },
  {
   "cell_type": "code",
   "execution_count": null,
   "id": "0d177d2a",
   "metadata": {},
   "outputs": [],
   "source": [
    "nan_values = ['Nicht beantwortet', 'Unbekannt', 'Nicht evaluierbar']\n",
    "\n",
    "# Set these values as NaN\n",
    "for value in nan_values:\n",
    "    data = data.replace(value, np.nan)"
   ]
  },
  {
   "cell_type": "markdown",
   "id": "9364643b",
   "metadata": {},
   "source": [
    "### Feature selection"
   ]
  },
  {
   "cell_type": "code",
   "execution_count": null,
   "id": "c55291e8",
   "metadata": {
    "scrolled": true
   },
   "outputs": [],
   "source": [
    "# Load numerical, nominal and ordinal features\n",
    "with open('data/features/full_features.json', 'r') as fp:\n",
    "    features = json.load(fp)\n",
    "\n",
    "num_features = features['num']\n",
    "ordinal_features = features['ordinal']\n",
    "nominal_features = features['nominal']"
   ]
  },
  {
   "cell_type": "markdown",
   "id": "eb14196d",
   "metadata": {},
   "source": [
    "#### Nominal feature selection"
   ]
  },
  {
   "cell_type": "code",
   "execution_count": null,
   "id": "2a444954",
   "metadata": {},
   "outputs": [],
   "source": [
    "# Normalized number of missing values (in nominal variables)\n",
    "data[nominal_features].isnull().sum() * 100 / len(data)"
   ]
  },
  {
   "cell_type": "markdown",
   "id": "e087bbb9",
   "metadata": {},
   "source": [
    "Remove non-ordinal columns where > 30% of data is missing"
   ]
  },
  {
   "cell_type": "code",
   "execution_count": null,
   "id": "99f41384",
   "metadata": {},
   "outputs": [],
   "source": [
    "percent_missing = data[nominal_features].isnull().sum() * 100 / len(data)\n",
    "missing_value_df = pd.DataFrame({'column_name': nominal_features,\n",
    "                                 'percent_missing': percent_missing})\n",
    "drop_features = list(missing_value_df[missing_value_df['percent_missing'] > 30]['column_name'])\n",
    "for feature in drop_features:\n",
    "    if 'Laborparameter' not in feature:\n",
    "        nominal_features.remove(feature)"
   ]
  },
  {
   "cell_type": "markdown",
   "id": "f2ffff76",
   "metadata": {},
   "source": [
    "#### Ordinal feature selection"
   ]
  },
  {
   "cell_type": "code",
   "execution_count": null,
   "id": "fbf057b5",
   "metadata": {},
   "outputs": [],
   "source": [
    "# Normalized number of missing values (in ordinal variables)\n",
    "data[ordinal_features].isnull().sum() * 100 / len(data)"
   ]
  },
  {
   "cell_type": "markdown",
   "id": "71d209e5",
   "metadata": {},
   "source": [
    "Remove ordinal columns where more than 30% of data is missing"
   ]
  },
  {
   "cell_type": "code",
   "execution_count": null,
   "id": "33b34d03",
   "metadata": {},
   "outputs": [],
   "source": [
    "percent_missing = data[ordinal_features].isnull().sum() * 100 / len(data)\n",
    "missing_value_df = pd.DataFrame({'column_name': ordinal_features,\n",
    "                                 'percent_missing': percent_missing})\n",
    "drop_features = list(missing_value_df[missing_value_df['percent_missing'] > 30]['column_name'])\n",
    "for feature in drop_features:\n",
    "    if 'Laborparameter' not in feature:\n",
    "        ordinal_features.remove(feature)"
   ]
  },
  {
   "cell_type": "markdown",
   "id": "b27e1b0c",
   "metadata": {},
   "source": [
    "#### Numerical feature selection"
   ]
  },
  {
   "cell_type": "code",
   "execution_count": null,
   "id": "a225c38a",
   "metadata": {},
   "outputs": [],
   "source": [
    "# Transform datatype of numerical features\n",
    "for num in num_features:\n",
    "    try:\n",
    "        data[num] = pd.to_numeric(data[num])\n",
    "    except:\n",
    "        print(num)"
   ]
  },
  {
   "cell_type": "code",
   "execution_count": null,
   "id": "bd3a8447",
   "metadata": {},
   "outputs": [],
   "source": [
    "# Normalized number of missing values (in numerical variables)\n",
    "data[num_features].isnull().sum() * 100 / len(data)"
   ]
  },
  {
   "cell_type": "markdown",
   "id": "801baa8d",
   "metadata": {},
   "source": [
    "Remove numerical columns where more than 30% of data is missing"
   ]
  },
  {
   "cell_type": "code",
   "execution_count": null,
   "id": "919f2a86",
   "metadata": {},
   "outputs": [],
   "source": [
    "percent_missing = data[num_features].isnull().sum() * 100 / len(data)\n",
    "missing_value_df = pd.DataFrame({'column_name': num_features,\n",
    "                                 'percent_missing': percent_missing})\n",
    "drop_features = list(missing_value_df[missing_value_df['percent_missing'] > 30]['column_name'])\n",
    "for feature in drop_features:\n",
    "    if 'Laborparameter' not in feature:\n",
    "        num_features.remove(feature)"
   ]
  },
  {
   "cell_type": "markdown",
   "id": "508f8bb9",
   "metadata": {},
   "source": [
    "### Feature encoding"
   ]
  },
  {
   "cell_type": "markdown",
   "id": "2a7b834d",
   "metadata": {},
   "source": [
    "#### Ordinal feature encoding"
   ]
  },
  {
   "cell_type": "code",
   "execution_count": null,
   "id": "e977aaf3",
   "metadata": {},
   "outputs": [],
   "source": [
    "with open('data/features/ordinal_encoding.json', 'r') as fp:\n",
    "    ordinal_encoding = json.load(fp)"
   ]
  },
  {
   "cell_type": "code",
   "execution_count": null,
   "id": "a84bc86a",
   "metadata": {},
   "outputs": [],
   "source": [
    "for cat in ordinal_features:\n",
    "    if cat not in ordinal_encoding.keys():\n",
    "        print(cat)"
   ]
  },
  {
   "cell_type": "code",
   "execution_count": null,
   "id": "0618ae8b",
   "metadata": {
    "scrolled": true
   },
   "outputs": [],
   "source": [
    "for feature in ordinal_features:\n",
    "    try:\n",
    "        data[feature] = data.apply(lambda row: encode(row[feature], ordinal_encoding[feature]), axis=1)\n",
    "    except KeyError:\n",
    "        print(feature)"
   ]
  },
  {
   "cell_type": "code",
   "execution_count": null,
   "id": "85c911cb",
   "metadata": {},
   "outputs": [],
   "source": [
    "# Transform datatype of ordinal features\n",
    "for feature in ordinal_features:\n",
    "    try:\n",
    "        data[feature] = pd.to_numeric(data[feature])\n",
    "    except:\n",
    "        print(feature)"
   ]
  },
  {
   "cell_type": "markdown",
   "id": "01374d8a",
   "metadata": {},
   "source": [
    "#### Non-ordinal feature encoding"
   ]
  },
  {
   "cell_type": "markdown",
   "id": "326ac8eb",
   "metadata": {},
   "source": [
    "Variante 1: Label encoding"
   ]
  },
  {
   "cell_type": "code",
   "execution_count": null,
   "id": "a25cfbe5",
   "metadata": {},
   "outputs": [],
   "source": [
    "nominal_features_code = [f'{col}##CODE' for col in nominal_features]"
   ]
  },
  {
   "cell_type": "code",
   "execution_count": null,
   "id": "c3ac95d5",
   "metadata": {},
   "outputs": [],
   "source": [
    "for i, col in enumerate(nominal_features):\n",
    "    data[col] = data[col].astype('category')\n",
    "    data[nominal_features_code[i]] = data[col].cat.codes"
   ]
  },
  {
   "cell_type": "markdown",
   "id": "22e6de1a",
   "metadata": {},
   "source": [
    "### Feature generation\n",
    "* Anzahl betroffener Lungenlappen\n",
    "* Summe Schweregrad aller Lungenlappen\n",
    "* Mittelwert Schweregrad aller Lungenlappen"
   ]
  },
  {
   "cell_type": "code",
   "execution_count": null,
   "id": "98164676",
   "metadata": {},
   "outputs": [],
   "source": [
    "generated_features = []"
   ]
  },
  {
   "cell_type": "code",
   "execution_count": null,
   "id": "9a114b29",
   "metadata": {},
   "outputs": [],
   "source": [
    "pathologies = ['Konsolidierung', 'Milchglasareal', 'Bronchuswandverdickungen']\n",
    "lobes = ['Oberlappen rechts', 'Mittellappen rechts', 'Unterlappen rechts', 'Oberlappen links', 'Lingula', 'Unterlappen links']"
   ]
  },
  {
   "cell_type": "code",
   "execution_count": null,
   "id": "2e347398",
   "metadata": {},
   "outputs": [],
   "source": [
    "encoding_schweregrad = {\n",
    "    'subsegmental': 0,\n",
    "    'segmental': 1,\n",
    "    'mehrsegmental bis lobär': 2\n",
    "}\n",
    "\n",
    "encoding_bronchi = {\n",
    "    'vereinzelt': 1,\n",
    "    'mehrsegmental': 2,\n",
    "    'generalisiert': 3\n",
    "}"
   ]
  },
  {
   "cell_type": "code",
   "execution_count": null,
   "id": "8327ae5a",
   "metadata": {},
   "outputs": [],
   "source": [
    "schweregrad_columns = []\n",
    "for patho in pathologies:\n",
    "    for lobe in lobes:\n",
    "        col = f'CT//{patho}::Schweregrad ({lobe})'\n",
    "        if patho == 'Bronchuswandverdickungen':\n",
    "            data[col] = data.apply(lambda row: encode(row[col], encoding_bronchi), axis=1)\n",
    "        else:\n",
    "            data[col] = data.apply(lambda row: encode(row[col], encoding_schweregrad), axis=1)\n",
    "    data[f'CT//{patho}::Anzahl betroffener Lappen'] = data.apply(lambda row: count_affected_lobes(row[f'CT//{patho}::Lokalisation Lappen']), axis=1)\n",
    "    data[f'CT//{patho}::Schweregrad Summe'] = data.apply(lambda row: get_agg_severity(row, patho, 'sum'), axis=1)\n",
    "    data[f'CT//{patho}::Schweregrad Mittelwert'] = data.apply(lambda row: get_agg_severity(row, patho, 'avg'), axis=1)\n",
    "    generated_features.extend([f'CT//{patho}::Anzahl betroffener Lappen', f'CT//{patho}::Schweregrad Summe', f'CT//{patho}::Schweregrad Mittelwert'])"
   ]
  },
  {
   "cell_type": "code",
   "execution_count": null,
   "id": "c39d65b3",
   "metadata": {},
   "outputs": [],
   "source": [
    "target_variable = 'Target_3'\n",
    "figure, axis = plt.subplots(3, 3, figsize=(15,15))\n",
    "for i, patho in enumerate(pathologies):\n",
    "    sns.boxplot(data=data, x=target_variable, y=f'CT//{patho}::Anzahl betroffener Lappen', ax=axis[i, 0])\n",
    "    sns.boxplot(data=data, x=target_variable, y=f'CT//{patho}::Schweregrad Summe', ax=axis[i, 1])\n",
    "    sns.boxplot(data=data, x=target_variable, y=f'CT//{patho}::Schweregrad Mittelwert', ax=axis[i, 2])"
   ]
  },
  {
   "cell_type": "markdown",
   "id": "8e455a65",
   "metadata": {},
   "source": [
    "* Anzahl an Komorbiditäten"
   ]
  },
  {
   "cell_type": "code",
   "execution_count": null,
   "id": "2fa6b302",
   "metadata": {},
   "outputs": [],
   "source": [
    "comorbs = {'Klinisch-anamnestische Information//Komorbiditäten aus Arztbrief::Emphysem': [2,3],\n",
    "'Klinisch-anamnestische Information//Komorbiditäten aus Arztbrief::Lungenfibrose': [2,3],\n",
    "'Klinisch-anamnestische Information//Komorbiditäten aus Arztbrief::Chronisch obstruktive Lungenerkrankung': [1],\n",
    "'Klinisch-anamnestische Information//Komorbiditäten aus Arztbrief::Bluthochdruck': [1],\n",
    "'Klinisch-anamnestische Information//Komorbiditäten aus Arztbrief::Herzerkrankungen': [1],\n",
    "'Klinisch-anamnestische Information//Komorbiditäten aus Arztbrief::Stauung/Ödem': [1],\n",
    "'Klinisch-anamnestische Information//Komorbiditäten aus Arztbrief::Dialyse': [1],\n",
    "'Klinisch-anamnestische Information//Komorbiditäten aus Arztbrief::Diabetes mellitus': ['Typ I', 'Typ II'],\n",
    "'Klinisch-anamnestische Information//Komorbiditäten aus Arztbrief::Tabak rauchen': ['Aktuell']}"
   ]
  },
  {
   "cell_type": "code",
   "execution_count": null,
   "id": "3d1997d7",
   "metadata": {},
   "outputs": [],
   "source": [
    "for comorb, occurence in comorbs.items():\n",
    "    data[f\"Occurrence_{comorb.split('::')[1]}\"] = data.apply(lambda row: int(row[comorb] in occurence), axis=1)"
   ]
  },
  {
   "cell_type": "code",
   "execution_count": null,
   "id": "70d39012",
   "metadata": {},
   "outputs": [],
   "source": [
    "data['Number_comorbidities'] = data.apply(lambda row: count_comorbs(row, comorbs), axis=1)"
   ]
  },
  {
   "cell_type": "code",
   "execution_count": null,
   "id": "4663040a",
   "metadata": {},
   "outputs": [],
   "source": [
    "generated_features.append('Number_comorbidities')"
   ]
  },
  {
   "cell_type": "code",
   "execution_count": null,
   "id": "2bf05081",
   "metadata": {},
   "outputs": [],
   "source": [
    "sns.boxplot(data=data, x=target_variable, y='Number_comorbidities')"
   ]
  },
  {
   "cell_type": "markdown",
   "id": "31564858",
   "metadata": {},
   "source": [
    "### Data modifications"
   ]
  },
  {
   "cell_type": "code",
   "execution_count": null,
   "id": "68660a53",
   "metadata": {},
   "outputs": [],
   "source": [
    "# Drop columns that should not be included in the model\n",
    "drop_num_features = [\n",
    "    'Laborparameter//Entzündungsparameter::High-sensitivity C-reactive protein (hs-CRP): Wert',\n",
    "    'Laborparameter//Gerinnungsfunktion::D-Dimer: Wert',\n",
    "    'Laborparameter//Blutbild::Lymphozyten: Wert',\n",
    "    'Laborparameter//Entzündungsparameter::Interleukin-6 (IL-6): Wert',\n",
    "    'Arztbrief/KIS Angaben//Arztbrief/KIS Angaben::Tage seit Aufnahme',\n",
    "]\n",
    "for feature in drop_num_features:\n",
    "    try:\n",
    "        num_features.remove(feature)\n",
    "    except ValueError:\n",
    "        print(feature)\n",
    "\n",
    "drop_ordinal_features = [\n",
    "    'CT//Gesamtbeurteilung::Lungenparenchym',\n",
    "    'Arztbrief/KIS Angaben//Outcome Parameter::Die letzte dokumentierte Patientenoutcomeerfassung beschreibt',\n",
    "    'Arztbrief/KIS Angaben//Outcome Parameter::Innerhalb des erfassten Aufenthaltes war der höchste Behandlungsstatus'\n",
    "]\n",
    "for feature in drop_ordinal_features:\n",
    "    try:\n",
    "        ordinal_features.remove(feature)\n",
    "    except ValueError:\n",
    "        print(feature)"
   ]
  },
  {
   "cell_type": "markdown",
   "id": "cfd64dae",
   "metadata": {},
   "source": [
    "Remove patients with NaN values in age column"
   ]
  },
  {
   "cell_type": "code",
   "execution_count": null,
   "id": "80887397",
   "metadata": {},
   "outputs": [],
   "source": [
    "age_col = 'Klinisch-anamnestische Information//Demographische Informationen::Alter'\n",
    "print(data[age_col].isna().sum())\n",
    "data = data[~data[age_col].isna()]\n",
    "data.reset_index(drop=True, inplace=True)"
   ]
  },
  {
   "cell_type": "markdown",
   "id": "6f1f5f8e",
   "metadata": {},
   "source": [
    "Build prediction models for missing values"
   ]
  },
  {
   "cell_type": "code",
   "execution_count": null,
   "id": "0ec1f25e",
   "metadata": {},
   "outputs": [],
   "source": [
    "missing_values_cols = [col for col in ordinal_features + nominal_features_code + num_features + generated_features if data[col].isna().sum() > 0]"
   ]
  },
  {
   "cell_type": "code",
   "execution_count": null,
   "id": "aec50f50",
   "metadata": {
    "scrolled": true
   },
   "outputs": [],
   "source": [
    "for col in missing_values_cols:\n",
    "    before = data[col].isna().sum()\n",
    "    if col in ['Klinisch-anamnestische Information//Klinische Symptome::Syst. RR', 'Klinisch-anamnestische Information//Klinische Symptome::Sauerstoff-Sättigung']:\n",
    "        pred_type = 'regressor'\n",
    "    else:\n",
    "        pred_type = 'classifier'\n",
    "    model, missing_indices, predictions = predict_missing_values(data[ordinal_features + nominal_features_code + num_features + generated_features], col, pred_type=pred_type)\n",
    "    for i, ind in enumerate(missing_indices):\n",
    "        data.loc[ind, col] = predictions[i]\n",
    "    after = data[col].isna().sum()\n",
    "    print(f'Missing values: {before} -> {after}')\n",
    "    print('#########################################')"
   ]
  },
  {
   "cell_type": "markdown",
   "id": "8c890320",
   "metadata": {},
   "source": [
    "Remove patients with CT//StudyDate > 20"
   ]
  },
  {
   "cell_type": "code",
   "execution_count": null,
   "id": "47191d97",
   "metadata": {},
   "outputs": [],
   "source": [
    "data['CT//StudyDate'].describe()"
   ]
  },
  {
   "cell_type": "code",
   "execution_count": null,
   "id": "c43496db",
   "metadata": {},
   "outputs": [],
   "source": [
    "len(data[data['CT//StudyDate'] >= 20])"
   ]
  },
  {
   "cell_type": "code",
   "execution_count": null,
   "id": "304f96ab",
   "metadata": {},
   "outputs": [],
   "source": [
    "data = data[data['CT//StudyDate'] < 21]"
   ]
  },
  {
   "cell_type": "markdown",
   "id": "778351fd",
   "metadata": {},
   "source": [
    "### Save data"
   ]
  },
  {
   "cell_type": "code",
   "execution_count": null,
   "id": "7e759025",
   "metadata": {},
   "outputs": [],
   "source": [
    "preprocessed_data = data[['PatientID', 'Location'] + [f'Target_{i}' for i in [0,2,3]] \n",
    "                         + ordinal_features + nominal_features_code + num_features]\n",
    "\n",
    "if save:\n",
    "    preprocessed_data.to_csv(f'{preprocessed_folder}/all_data_combined_nominal-label-encoded.csv', index=False)"
   ]
  },
  {
   "cell_type": "code",
   "execution_count": null,
   "id": "3e35f144",
   "metadata": {},
   "outputs": [],
   "source": [
    "ohenc_data = data.copy()\n",
    "ohenc_data = data[['PatientID', 'Location'] + [f'Target_{i}' for i in [0,2,3]] \n",
    "                            + ordinal_features + nominal_features + num_features]\n",
    "ohenc_data = pd.get_dummies(ohenc_data, columns=nominal_features)\n",
    "\n",
    "if save:\n",
    "    ohenc_data.to_csv(f'{preprocessed_folder}/all_data_combined_nominal-one-hot.csv', index=False)"
   ]
  },
  {
   "cell_type": "code",
   "execution_count": null,
   "id": "88cff8c4",
   "metadata": {},
   "outputs": [],
   "source": [
    "preprocessed_data = data[['PatientID', 'Location'] + [f'Target_{i}' for i in [0,2,3]] \n",
    "                         + ordinal_features + nominal_features_code + num_features + generated_features]\n",
    "\n",
    "if save:\n",
    "    preprocessed_data.to_csv(f'{preprocessed_folder}/all_data_combined_nominal-label-encoded_GF.csv', index=False)"
   ]
  },
  {
   "cell_type": "code",
   "execution_count": null,
   "id": "acef929c",
   "metadata": {},
   "outputs": [],
   "source": [
    "ohenc_data = data.copy()\n",
    "ohenc_data = data[['PatientID', 'Location'] + [f'Target_{i}' for i in [0,2,3]] \n",
    "                            + ordinal_features + nominal_features + num_features + generated_features]\n",
    "ohenc_data = pd.get_dummies(ohenc_data, columns=nominal_features)\n",
    "\n",
    "if save:\n",
    "    ohenc_data.to_csv(f'{preprocessed_folder}/all_data_combined_nominal-one-hot_GF.csv', index=False)"
   ]
  },
  {
   "cell_type": "code",
   "execution_count": null,
   "id": "bbd34f3d",
   "metadata": {},
   "outputs": [],
   "source": [
    "selected_features = {\n",
    "    'num': num_features,\n",
    "    'ordinal': ordinal_features,\n",
    "    'nominal': nominal_features,\n",
    "    'generated': generated_features\n",
    "}\n",
    "\n",
    "with open('data/features/selected_features.json', 'w') as fp:\n",
    "    json.dump(selected_features, fp)"
   ]
  }
 ],
 "metadata": {
  "kernelspec": {
   "display_name": "Python 3 (ipykernel)",
   "language": "python",
   "name": "python3"
  },
  "language_info": {
   "codemirror_mode": {
    "name": "ipython",
    "version": 3
   },
   "file_extension": ".py",
   "mimetype": "text/x-python",
   "name": "python",
   "nbconvert_exporter": "python",
   "pygments_lexer": "ipython3",
   "version": "3.9.12"
  }
 },
 "nbformat": 4,
 "nbformat_minor": 5
}
